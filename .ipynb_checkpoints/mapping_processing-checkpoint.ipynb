{
 "cells": [
  {
   "cell_type": "code",
   "execution_count": 1,
   "metadata": {},
   "outputs": [],
   "source": [
    "import matplotlib.pyplot as plt\n",
    "import time\n",
    "from IPython.display import display\n",
    "from xml.dom import minidom\n",
    "import math\n",
    "import folium\n",
    "import pandas as pd\n",
    "from pandas.io.json import json_normalize\n",
    "import tqdm \n",
    "import numpy as np\n",
    "import geopandas as gpd\n",
    "import contextily as cx\n",
    "from random import randint\n",
    "import json\n",
    "\n",
    "import warnings\n",
    "warnings.filterwarnings(\"ignore\")"
   ]
  },
  {
   "cell_type": "markdown",
   "metadata": {},
   "source": [
    "# Routes"
   ]
  },
  {
   "cell_type": "code",
   "execution_count": 35,
   "metadata": {},
   "outputs": [
    {
     "data": {
      "text/html": [
       "<div>\n",
       "<style scoped>\n",
       "    .dataframe tbody tr th:only-of-type {\n",
       "        vertical-align: middle;\n",
       "    }\n",
       "\n",
       "    .dataframe tbody tr th {\n",
       "        vertical-align: top;\n",
       "    }\n",
       "\n",
       "    .dataframe thead th {\n",
       "        text-align: right;\n",
       "    }\n",
       "</style>\n",
       "<table border=\"1\" class=\"dataframe\">\n",
       "  <thead>\n",
       "    <tr style=\"text-align: right;\">\n",
       "      <th></th>\n",
       "      <th>OBJECTID</th>\n",
       "      <th>stop_name</th>\n",
       "      <th>x</th>\n",
       "      <th>y</th>\n",
       "      <th>neighborhood</th>\n",
       "    </tr>\n",
       "  </thead>\n",
       "  <tbody>\n",
       "    <tr>\n",
       "      <th>0</th>\n",
       "      <td>1</td>\n",
       "      <td>سوق الموردة</td>\n",
       "      <td>32.489899</td>\n",
       "      <td>1727851</td>\n",
       "      <td>الهجرة</td>\n",
       "    </tr>\n",
       "    <tr>\n",
       "      <th>1</th>\n",
       "      <td>2</td>\n",
       "      <td>بوابة عبد القيوم</td>\n",
       "      <td>32.491548</td>\n",
       "      <td>1728361</td>\n",
       "      <td>الهجرة</td>\n",
       "    </tr>\n",
       "    <tr>\n",
       "      <th>2</th>\n",
       "      <td>3</td>\n",
       "      <td>بوابة عبد القيوم</td>\n",
       "      <td>32.491371</td>\n",
       "      <td>1728342</td>\n",
       "      <td>الهجرة</td>\n",
       "    </tr>\n",
       "    <tr>\n",
       "      <th>3</th>\n",
       "      <td>4</td>\n",
       "      <td>داخلية علي عبد الفتاح</td>\n",
       "      <td>32.490889</td>\n",
       "      <td>1728618</td>\n",
       "      <td>الهجرة</td>\n",
       "    </tr>\n",
       "    <tr>\n",
       "      <th>4</th>\n",
       "      <td>5</td>\n",
       "      <td>الدآيات</td>\n",
       "      <td>32.490532</td>\n",
       "      <td>1728725</td>\n",
       "      <td>الهجرة</td>\n",
       "    </tr>\n",
       "  </tbody>\n",
       "</table>\n",
       "</div>"
      ],
      "text/plain": [
       "   OBJECTID              stop_name          x        y neighborhood\n",
       "0         1            سوق الموردة  32.489899  1727851       الهجرة\n",
       "1         2       بوابة عبد القيوم  32.491548  1728361       الهجرة\n",
       "2         3       بوابة عبد القيوم  32.491371  1728342       الهجرة\n",
       "3         4  داخلية علي عبد الفتاح  32.490889  1728618       الهجرة\n",
       "4         5                الدآيات  32.490532  1728725       الهجرة"
      ]
     },
     "execution_count": 35,
     "metadata": {},
     "output_type": "execute_result"
    }
   ],
   "source": [
    "# from pyproj import Transformer\n",
    "# stops= pd.read_excel('./Data/GIS/bus_routes/stops.xlsx')\n",
    "# transformer = Transformer.from_crs(\"EPSG:32636\", \"EPSG:4326\")\n",
    "# transformed_coords= transformer.transform(stops.x, stops.y)\n",
    "# stops['x']= transformed_coords[0]\n",
    "# stops['x']= transformed_coords[1]\n",
    "# stops.head()"
   ]
  },
  {
   "cell_type": "code",
   "execution_count": 21,
   "metadata": {},
   "outputs": [],
   "source": [
    "routes= gpd.read_file('./transit_map/shp/Transport Routes with Num ID.shp')\n",
    "#routes.drop_duplicates(subset= 'geometry', inplace= True)"
   ]
  },
  {
   "cell_type": "code",
   "execution_count": 22,
   "metadata": {},
   "outputs": [],
   "source": [
    "routes= routes.to_crs(epsg=4326)"
   ]
  },
  {
   "cell_type": "code",
   "execution_count": 23,
   "metadata": {},
   "outputs": [],
   "source": [
    "# Create a unique identifier for each LineString\n",
    "routes['geometry_str'] = routes['geometry'].astype(str)\n",
    "\n",
    "# Identify objects with identical routes\n",
    "duplicates = routes.groupby('geometry_str').filter(lambda x: len(x) > 1)\n",
    "duplicates.sort_values(by= ['Name', 'Routes_n_4'], inplace= True)"
   ]
  },
  {
   "cell_type": "code",
   "execution_count": 24,
   "metadata": {},
   "outputs": [
    {
     "name": "stdout",
     "output_type": "stream",
     "text": [
      "Failed at 219\n",
      "Failed at 207\n",
      "Failed at 232\n",
      "Failed at 85\n",
      "Failed at 243\n",
      "Failed at 366\n",
      "Failed at 233\n",
      "Failed at 362\n",
      "Failed at 223\n",
      "Failed at 404\n",
      "Failed at 235\n",
      "Failed at 165\n"
     ]
    }
   ],
   "source": [
    "for index in duplicates[duplicates.Routes_n_4 == 'back'].index.values:\n",
    "    try:\n",
    "        routes.at[index, 'geometry'].coords = duplicates.at[index-1, 'geometry'].coords[::-1]\n",
    "    except:\n",
    "        print(f'Failed at {index}')\n",
    "        continue\n",
    "        \n",
    "routes.drop_duplicates(subset= 'geometry', inplace= True)"
   ]
  },
  {
   "cell_type": "code",
   "execution_count": 25,
   "metadata": {},
   "outputs": [],
   "source": [
    "routes.rename(columns= {'OBJECTID':'shape_id'}, inplace= True)\n",
    "routes.shape_id = routes.shape_id.astype('int')\n",
    "routes.shape_id = routes.shape_id.astype('str')\n",
    "routes.shape_id = routes.shape_id.astype(str).apply(lambda x: \"shp_\"+x)"
   ]
  },
  {
   "cell_type": "code",
   "execution_count": 26,
   "metadata": {},
   "outputs": [
    {
     "data": {
      "text/html": [
       "<div>\n",
       "<style scoped>\n",
       "    .dataframe tbody tr th:only-of-type {\n",
       "        vertical-align: middle;\n",
       "    }\n",
       "\n",
       "    .dataframe tbody tr th {\n",
       "        vertical-align: top;\n",
       "    }\n",
       "\n",
       "    .dataframe thead th {\n",
       "        text-align: right;\n",
       "    }\n",
       "</style>\n",
       "<table border=\"1\" class=\"dataframe\">\n",
       "  <thead>\n",
       "    <tr style=\"text-align: right;\">\n",
       "      <th></th>\n",
       "      <th>shape_id</th>\n",
       "      <th>Name</th>\n",
       "      <th>Station_ID</th>\n",
       "      <th>Bus_type</th>\n",
       "      <th>Fees</th>\n",
       "      <th>Trip_Type</th>\n",
       "      <th>SHAPE_Leng</th>\n",
       "      <th>Routes_nam</th>\n",
       "      <th>Routes_n_1</th>\n",
       "      <th>Routes_n_2</th>\n",
       "      <th>Routes_n_3</th>\n",
       "      <th>Routes_n_4</th>\n",
       "      <th>Routes_n_5</th>\n",
       "      <th>Routes_n_6</th>\n",
       "      <th>Routes_n_7</th>\n",
       "      <th>geometry</th>\n",
       "      <th>geometry_str</th>\n",
       "    </tr>\n",
       "  </thead>\n",
       "  <tbody>\n",
       "    <tr>\n",
       "      <th>0</th>\n",
       "      <td>shp_1</td>\n",
       "      <td>الخرطوم - السوق المحلي</td>\n",
       "      <td>None</td>\n",
       "      <td>None</td>\n",
       "      <td>None</td>\n",
       "      <td>1.0</td>\n",
       "      <td>9462.706579</td>\n",
       "      <td>الخرطوم - السوق المحلي</td>\n",
       "      <td>None</td>\n",
       "      <td>None</td>\n",
       "      <td>None</td>\n",
       "      <td>back</td>\n",
       "      <td>9462.706579</td>\n",
       "      <td>71.0</td>\n",
       "      <td>71.0</td>\n",
       "      <td>LINESTRING (32.54371 15.52087, 32.54364 15.521...</td>\n",
       "      <td>LINESTRING (32.54371393354722 15.5208729790680...</td>\n",
       "    </tr>\n",
       "    <tr>\n",
       "      <th>1</th>\n",
       "      <td>shp_2</td>\n",
       "      <td>الخرطوم - السوق المركزي</td>\n",
       "      <td>None</td>\n",
       "      <td>None</td>\n",
       "      <td>None</td>\n",
       "      <td>1.0</td>\n",
       "      <td>9123.981371</td>\n",
       "      <td>الخرطوم - السوق المركزي</td>\n",
       "      <td>None</td>\n",
       "      <td>None</td>\n",
       "      <td>None</td>\n",
       "      <td>back</td>\n",
       "      <td>9123.981371</td>\n",
       "      <td>72.0</td>\n",
       "      <td>72.0</td>\n",
       "      <td>LINESTRING (32.54965 15.53139, 32.54870 15.537...</td>\n",
       "      <td>LINESTRING (32.54965471346372 15.5313902840863...</td>\n",
       "    </tr>\n",
       "    <tr>\n",
       "      <th>2</th>\n",
       "      <td>shp_3</td>\n",
       "      <td>الخرطوم - اركويت</td>\n",
       "      <td>None</td>\n",
       "      <td>None</td>\n",
       "      <td>None</td>\n",
       "      <td>1.0</td>\n",
       "      <td>10560.812416</td>\n",
       "      <td>الخرطوم - اركويت</td>\n",
       "      <td>None</td>\n",
       "      <td>None</td>\n",
       "      <td>None</td>\n",
       "      <td>back</td>\n",
       "      <td>10560.812416</td>\n",
       "      <td>75.0</td>\n",
       "      <td>75.0</td>\n",
       "      <td>LINESTRING (32.56347 15.53835, 32.56306 15.540...</td>\n",
       "      <td>LINESTRING (32.56347361045869 15.5383531683958...</td>\n",
       "    </tr>\n",
       "    <tr>\n",
       "      <th>3</th>\n",
       "      <td>shp_4</td>\n",
       "      <td>الخرطوم - السوق المحلي</td>\n",
       "      <td>None</td>\n",
       "      <td>None</td>\n",
       "      <td>None</td>\n",
       "      <td>0.0</td>\n",
       "      <td>8983.359243</td>\n",
       "      <td>الخرطوم - السوق المحلي</td>\n",
       "      <td>None</td>\n",
       "      <td>None</td>\n",
       "      <td>None</td>\n",
       "      <td>start</td>\n",
       "      <td>8983.359243</td>\n",
       "      <td>NaN</td>\n",
       "      <td>71.0</td>\n",
       "      <td>LINESTRING (32.52158 15.59317, 32.52162 15.592...</td>\n",
       "      <td>LINESTRING (32.521577993923295 15.593169579270...</td>\n",
       "    </tr>\n",
       "    <tr>\n",
       "      <th>4</th>\n",
       "      <td>shp_5</td>\n",
       "      <td>الخرطوم - السوق المركزي</td>\n",
       "      <td>None</td>\n",
       "      <td>None</td>\n",
       "      <td>None</td>\n",
       "      <td>0.0</td>\n",
       "      <td>8950.474195</td>\n",
       "      <td>الخرطوم - السوق المركزي</td>\n",
       "      <td>None</td>\n",
       "      <td>None</td>\n",
       "      <td>None</td>\n",
       "      <td>start</td>\n",
       "      <td>8950.474195</td>\n",
       "      <td>NaN</td>\n",
       "      <td>72.0</td>\n",
       "      <td>LINESTRING (32.52158 15.59317, 32.52162 15.592...</td>\n",
       "      <td>LINESTRING (32.521577993923295 15.593169579270...</td>\n",
       "    </tr>\n",
       "  </tbody>\n",
       "</table>\n",
       "</div>"
      ],
      "text/plain": [
       "  shape_id                     Name Station_ID Bus_type  Fees  Trip_Type  \\\n",
       "0    shp_1   الخرطوم - السوق المحلي       None     None  None        1.0   \n",
       "1    shp_2  الخرطوم - السوق المركزي       None     None  None        1.0   \n",
       "2    shp_3         الخرطوم - اركويت       None     None  None        1.0   \n",
       "3    shp_4   الخرطوم - السوق المحلي       None     None  None        0.0   \n",
       "4    shp_5  الخرطوم - السوق المركزي       None     None  None        0.0   \n",
       "\n",
       "     SHAPE_Leng               Routes_nam Routes_n_1 Routes_n_2 Routes_n_3  \\\n",
       "0   9462.706579   الخرطوم - السوق المحلي       None       None       None   \n",
       "1   9123.981371  الخرطوم - السوق المركزي       None       None       None   \n",
       "2  10560.812416         الخرطوم - اركويت       None       None       None   \n",
       "3   8983.359243   الخرطوم - السوق المحلي       None       None       None   \n",
       "4   8950.474195  الخرطوم - السوق المركزي       None       None       None   \n",
       "\n",
       "  Routes_n_4    Routes_n_5  Routes_n_6  Routes_n_7  \\\n",
       "0       back   9462.706579        71.0        71.0   \n",
       "1       back   9123.981371        72.0        72.0   \n",
       "2       back  10560.812416        75.0        75.0   \n",
       "3      start   8983.359243         NaN        71.0   \n",
       "4      start   8950.474195         NaN        72.0   \n",
       "\n",
       "                                            geometry  \\\n",
       "0  LINESTRING (32.54371 15.52087, 32.54364 15.521...   \n",
       "1  LINESTRING (32.54965 15.53139, 32.54870 15.537...   \n",
       "2  LINESTRING (32.56347 15.53835, 32.56306 15.540...   \n",
       "3  LINESTRING (32.52158 15.59317, 32.52162 15.592...   \n",
       "4  LINESTRING (32.52158 15.59317, 32.52162 15.592...   \n",
       "\n",
       "                                        geometry_str  \n",
       "0  LINESTRING (32.54371393354722 15.5208729790680...  \n",
       "1  LINESTRING (32.54965471346372 15.5313902840863...  \n",
       "2  LINESTRING (32.56347361045869 15.5383531683958...  \n",
       "3  LINESTRING (32.521577993923295 15.593169579270...  \n",
       "4  LINESTRING (32.521577993923295 15.593169579270...  "
      ]
     },
     "execution_count": 26,
     "metadata": {},
     "output_type": "execute_result"
    }
   ],
   "source": [
    "routes.head()"
   ]
  },
  {
   "cell_type": "code",
   "execution_count": 28,
   "metadata": {},
   "outputs": [],
   "source": [
    "routes= routes[['shape_id', 'geometry']] #routes= routes[['shape_id', 'Name', 'Trip_Type', 'geometry']]"
   ]
  },
  {
   "cell_type": "code",
   "execution_count": 29,
   "metadata": {
    "scrolled": true
   },
   "outputs": [
    {
     "data": {
      "text/plain": [
       "<Geographic 2D CRS: EPSG:4326>\n",
       "Name: WGS 84\n",
       "Axis Info [ellipsoidal]:\n",
       "- Lat[north]: Geodetic latitude (degree)\n",
       "- Lon[east]: Geodetic longitude (degree)\n",
       "Area of Use:\n",
       "- name: World.\n",
       "- bounds: (-180.0, -90.0, 180.0, 90.0)\n",
       "Datum: World Geodetic System 1984 ensemble\n",
       "- Ellipsoid: WGS 84\n",
       "- Prime Meridian: Greenwich"
      ]
     },
     "execution_count": 29,
     "metadata": {},
     "output_type": "execute_result"
    }
   ],
   "source": [
    "routes.crs"
   ]
  },
  {
   "cell_type": "code",
   "execution_count": 9,
   "metadata": {},
   "outputs": [],
   "source": [
    "routes= routes.to_crs(epsg=4326)"
   ]
  },
  {
   "cell_type": "code",
   "execution_count": 53,
   "metadata": {},
   "outputs": [],
   "source": [
    "idx_to_drop= [\n",
    "    50, 51, 84, 85, 96, 97, 190, 191, 206, 207, 216, 217, 218, 219, 222, 223,\n",
    "    230, 231, 232, 233, 234, 235, 236, 237, 242, 243, 358, 361, 362, 365, 366\n",
    "]"
   ]
  },
  {
   "cell_type": "code",
   "execution_count": 55,
   "metadata": {},
   "outputs": [],
   "source": [
    "#routes.drop(idx_to_drop).to_file(\"shapes.geojson\", driver=\"GeoJSON\")"
   ]
  },
  {
   "cell_type": "code",
   "execution_count": null,
   "metadata": {},
   "outputs": [],
   "source": [
    "routes.to_excel('krt_routes_onemap.xlsx', index= False)"
   ]
  },
  {
   "cell_type": "code",
   "execution_count": null,
   "metadata": {},
   "outputs": [],
   "source": [
    "routes.to_file('krt_routes_onemap.json', driver='GeoJSON')"
   ]
  },
  {
   "cell_type": "code",
   "execution_count": 32,
   "metadata": {
    "scrolled": true
   },
   "outputs": [
    {
     "data": {
      "text/plain": [
       "<AxesSubplot:>"
      ]
     },
     "execution_count": 32,
     "metadata": {},
     "output_type": "execute_result"
    },
    {
     "data": {
      "image/png": "[encoded data removed]",
      "text/plain": [
       "<Figure size 432x432 with 1 Axes>"
      ]
     },
     "metadata": {
      "needs_background": "light"
     },
     "output_type": "display_data"
    }
   ],
   "source": [
    "routes.plot(figsize=(6, 6))"
   ]
  },
  {
   "cell_type": "code",
   "execution_count": 10,
   "metadata": {},
   "outputs": [],
   "source": [
    "import pandas as pd\n",
    "from pandas.io.json import json_normalize\n",
    "import json\n",
    "import requests\n",
    "from shapely.geometry import LineString\n",
    "\n",
    "def map_match(route):\n",
    "    meili = pd.DataFrame(route.geometry.coords[:], columns= ['lon', 'lat'])\n",
    "    \n",
    "    insert_rows = 50   # generate intermediate points\n",
    "    meili.index = range(0, insert_rows * len(meili), insert_rows)\n",
    "    meili = meili.reindex(index = range(insert_rows * len(meili))) \n",
    "    meili= meili.interpolate(method='linear', limit=insert_rows)\n",
    "\n",
    "    #Preparing the request to Valhalla's Meili\n",
    "    meili_coordinates = meili.to_json(orient='records')\n",
    "    meili_head = '{\"shape\":'\n",
    "    meili_tail = \"\"\",\"search_radius\": 150, \"shape_match\":\"map_snap\", \"costing\":\"auto\", \"format\":\"osrm\"}\"\"\" \n",
    "    meili_request_body = meili_head + meili_coordinates + meili_tail\n",
    "\n",
    "    #Sending a request to Valhalla's Meili\n",
    "    #url = \"http://localhost:8002/trace_route\" ### local host needs to be set up\n",
    "    url = \"https://valhalla1.openstreetmap.de/trace_route\" ### use Valhalla public server in the interim\n",
    "    headers = {'Content-type': 'application/json'}\n",
    "    data = str(meili_request_body)\n",
    "    try:\n",
    "        r = requests.post(url, data=data, headers=headers)\n",
    "    except:\n",
    "        print('Valhalla server at limit. Map Matching failed!')\n",
    "\n",
    "    #Receiving Valhalla's Meili response\n",
    "    if r.status_code == 200:    \n",
    "        response_text = json.loads(r.text)\n",
    "        response = str(response_text['tracepoints'])\n",
    "        response = response.replace(\"'waypoint_index': None\", \"'waypoint_index': '#'\")\n",
    "        response = response.replace(\"None\", \"{'matchings_index': '#', 'name': '', 'waypoint_index': '#', 'alternatives_count': 0, 'distance': 0, 'location': [0.0, 0.0]}\")\n",
    "        response = response.replace(\"'\", '\"')\n",
    "        response = json.dumps(response)\n",
    "        response = json.loads(response)\n",
    "\n",
    "        #Create a dataframe for response contents\n",
    "        response_df = pd.read_json(response)\n",
    "        response_df = response_df[['name', 'distance', 'location']]\n",
    "        map_matched_df = pd.merge(meili, response_df, left_index=True, right_index=True)\n",
    "\n",
    "        #Break down location into longitude and latitude for matched coordinates\n",
    "        for i, row in map_matched_df.iterrows():\n",
    "            map_matched_df.at[i, 'longitude'] = map_matched_df.at[i,'location'][0]\n",
    "            map_matched_df.at[i, 'latitude'] = map_matched_df.at[i,'location'][1]\n",
    "\n",
    "            #Formatting: saving Meili output + original cooridinates for unmatched points\n",
    "            if map_matched_df.at[i, 'longitude'] == 0.0:\n",
    "                map_matched_df.at[i, 'longitude'] = map_matched_df.at[i,'lon']\n",
    "                map_matched_df.at[i, 'latitude'] = map_matched_df.at[i,'lat']\n",
    "\n",
    "        map_matched_df = map_matched_df.drop(['location', 'lon', 'lat'], 1)\n",
    "        map_matched_df.rename(columns={'longitude': 'lon', 'latitude':'lat'}, inplace= True)\n",
    "        map_matched_df['distance']= map_matched_df.distance.cumsum() #*0.3048\n",
    "\n",
    "    return map_matched_df"
   ]
  },
  {
   "cell_type": "code",
   "execution_count": 11,
   "metadata": {},
   "outputs": [
    {
     "name": "stderr",
     "output_type": "stream",
     "text": [
      " 10%|████                                      | 51/535 [01:43<17:42,  2.20s/it]"
     ]
    },
    {
     "name": "stdout",
     "output_type": "stream",
     "text": [
      "Map-matching unsuccessful for shp_51.\n",
      "Map-matching unsuccessful for shp_52.\n"
     ]
    },
    {
     "name": "stderr",
     "output_type": "stream",
     "text": [
      " 16%|██████▌                                   | 84/535 [03:31<53:27,  7.11s/it]"
     ]
    },
    {
     "name": "stdout",
     "output_type": "stream",
     "text": [
      "Map-matching unsuccessful for shp_85.\n"
     ]
    },
    {
     "name": "stderr",
     "output_type": "stream",
     "text": [
      " 17%|███████                                   | 90/535 [03:53<29:16,  3.95s/it]"
     ]
    },
    {
     "name": "stdout",
     "output_type": "stream",
     "text": [
      "Map-matching unsuccessful for shp_91.\n"
     ]
    },
    {
     "name": "stderr",
     "output_type": "stream",
     "text": [
      " 18%|███████▍                                  | 94/535 [04:04<20:49,  2.83s/it]"
     ]
    },
    {
     "name": "stdout",
     "output_type": "stream",
     "text": [
      "Map-matching unsuccessful for shp_97.\n",
      "Map-matching unsuccessful for shp_98.\n"
     ]
    },
    {
     "name": "stderr",
     "output_type": "stream",
     "text": [
      " 20%|████████▏                                | 107/535 [04:34<22:02,  3.09s/it]"
     ]
    },
    {
     "name": "stdout",
     "output_type": "stream",
     "text": [
      "Map-matching unsuccessful for shp_110.\n"
     ]
    },
    {
     "name": "stderr",
     "output_type": "stream",
     "text": [
      " 20%|████████▎                                | 109/535 [04:40<20:26,  2.88s/it]"
     ]
    },
    {
     "name": "stdout",
     "output_type": "stream",
     "text": [
      "Map-matching unsuccessful for shp_112.\n"
     ]
    },
    {
     "name": "stderr",
     "output_type": "stream",
     "text": [
      " 21%|████████▌                                | 111/535 [04:45<18:42,  2.65s/it]"
     ]
    },
    {
     "name": "stdout",
     "output_type": "stream",
     "text": [
      "Map-matching unsuccessful for shp_114.\n"
     ]
    },
    {
     "name": "stderr",
     "output_type": "stream",
     "text": [
      " 21%|████████▋                                | 113/535 [04:50<17:59,  2.56s/it]"
     ]
    },
    {
     "name": "stdout",
     "output_type": "stream",
     "text": [
      "Map-matching unsuccessful for shp_116.\n"
     ]
    },
    {
     "name": "stderr",
     "output_type": "stream",
     "text": [
      " 29%|███████████▉                             | 156/535 [06:59<09:15,  1.47s/it]"
     ]
    },
    {
     "name": "stdout",
     "output_type": "stream",
     "text": [
      "Map-matching unsuccessful for shp_163.\n"
     ]
    },
    {
     "name": "stderr",
     "output_type": "stream",
     "text": [
      " 32%|█████████████▏                           | 172/535 [07:28<07:47,  1.29s/it]"
     ]
    },
    {
     "name": "stdout",
     "output_type": "stream",
     "text": [
      "Map-matching unsuccessful for shp_183.\n"
     ]
    },
    {
     "name": "stderr",
     "output_type": "stream",
     "text": [
      " 33%|█████████████▋                           | 178/535 [07:41<13:49,  2.32s/it]"
     ]
    },
    {
     "name": "stdout",
     "output_type": "stream",
     "text": [
      "Map-matching unsuccessful for shp_191.\n"
     ]
    },
    {
     "name": "stderr",
     "output_type": "stream",
     "text": [
      " 36%|██████████████▋                          | 192/535 [08:34<22:09,  3.88s/it]"
     ]
    },
    {
     "name": "stdout",
     "output_type": "stream",
     "text": [
      "Map-matching unsuccessful for shp_207.\n"
     ]
    },
    {
     "name": "stderr",
     "output_type": "stream",
     "text": [
      " 38%|███████████████▍                         | 201/535 [09:02<17:06,  3.07s/it]"
     ]
    },
    {
     "name": "stdout",
     "output_type": "stream",
     "text": [
      "Map-matching unsuccessful for shp_217.\n",
      "Map-matching unsuccessful for shp_218.\n",
      "Map-matching unsuccessful for shp_219.\n"
     ]
    },
    {
     "name": "stderr",
     "output_type": "stream",
     "text": [
      " 39%|███████████████▊                         | 206/535 [09:19<21:13,  3.87s/it]"
     ]
    },
    {
     "name": "stdout",
     "output_type": "stream",
     "text": [
      "Map-matching unsuccessful for shp_223.\n"
     ]
    },
    {
     "name": "stderr",
     "output_type": "stream",
     "text": [
      " 40%|████████████████▎                        | 213/535 [09:38<13:48,  2.57s/it]"
     ]
    },
    {
     "name": "stdout",
     "output_type": "stream",
     "text": [
      "Map-matching unsuccessful for shp_231.\n",
      "Map-matching unsuccessful for shp_232.\n",
      "Map-matching unsuccessful for shp_235.\n",
      "Map-matching unsuccessful for shp_237.\n"
     ]
    },
    {
     "name": "stderr",
     "output_type": "stream",
     "text": [
      " 61%|█████████████████████████▏               | 329/535 [15:41<10:10,  2.96s/it]"
     ]
    },
    {
     "name": "stdout",
     "output_type": "stream",
     "text": [
      "Map-matching unsuccessful for shp_359.\n"
     ]
    },
    {
     "name": "stderr",
     "output_type": "stream",
     "text": [
      " 62%|█████████████████████████▍               | 332/535 [15:46<07:46,  2.30s/it]"
     ]
    },
    {
     "name": "stdout",
     "output_type": "stream",
     "text": [
      "Map-matching unsuccessful for shp_362.\n"
     ]
    },
    {
     "name": "stderr",
     "output_type": "stream",
     "text": [
      " 63%|█████████████████████████▋               | 335/535 [15:53<07:33,  2.27s/it]"
     ]
    },
    {
     "name": "stdout",
     "output_type": "stream",
     "text": [
      "Map-matching unsuccessful for shp_366.\n"
     ]
    },
    {
     "name": "stderr",
     "output_type": "stream",
     "text": [
      " 71%|█████████████████████████████▏           | 381/535 [17:42<04:27,  1.74s/it]"
     ]
    },
    {
     "name": "stdout",
     "output_type": "stream",
     "text": [
      "Map-matching unsuccessful for shp_413.\n"
     ]
    },
    {
     "name": "stderr",
     "output_type": "stream",
     "text": [
      "100%|█████████████████████████████████████████| 535/535 [26:35<00:00,  2.98s/it]\n"
     ]
    }
   ],
   "source": [
    "routes.reset_index(drop= True, inplace= True)\n",
    "\n",
    "with tqdm.tqdm(total= len(routes), position=0, leave=True) as pbar:\n",
    "    for i in range(len(routes)):\n",
    "        pbar.update(1)\n",
    "        try:\n",
    "            mm= map_match(routes.iloc[i])\n",
    "            routes.iat[i, 1]= LineString(zip(mm['lon'], mm['lat']))\n",
    "            time.sleep(1)\n",
    "        except:\n",
    "            print(f'Map-matching unsuccessful for {routes.iat[i,0]}.')\n",
    "            continue"
   ]
  },
  {
   "cell_type": "code",
   "execution_count": 16,
   "metadata": {},
   "outputs": [],
   "source": [
    "routes[:100].to_file(\"matched_shapes_s.geojson\", driver=\"GeoJSON\")"
   ]
  },
  {
   "cell_type": "code",
   "execution_count": null,
   "metadata": {},
   "outputs": [],
   "source": [
    "import geopandas as gpd\n",
    "import matplotlib.pyplot as plt\n",
    "import contextily as ctx\n",
    "from shapely.geometry import LineString\n",
    "from matplotlib.colors import hex2color\n",
    "import random\n",
    "\n",
    "\n",
    "# Load route lines and stop locations (replace with your data)\n",
    "#route_lines_gdf = gpd.read_file('route_lines.geojson')\n",
    "#stop_locations_gdf = gpd.read_file('stop_locations.geojson')\n",
    "\n",
    "unique_routes = routes['shape_id'].unique()\n",
    "unique_routes = unique_routes[::-1]\n",
    "random_colors = ['#{:02X}{:02X}{:02X}'.format(random.randint(0, 255),\n",
    "                                              random.randint(0, 255),\n",
    "                                              random.randint(0, 255)) for _ in unique_routes]\n",
    "# Create a dictionary to map route names to colors\n",
    "route_colors = dict(zip(unique_routes, random_colors))\n",
    "\n",
    "# Create a figure and axis\n",
    "fig, ax = plt.subplots(figsize=(10, 10))\n",
    "\n",
    "# Offset for displaying multiple lines next to each other\n",
    "offset = 0.0001  # Adjust this value as needed\n",
    "\n",
    "# Plot route lines with an offset\n",
    "for idx, row in routes.iterrows():\n",
    "    line = row['geometry']\n",
    "    line_offset = LineString([(x + idx * offset, y) for x, y in line.coords])\n",
    "    routes.loc[idx, 'geometry'] = line_offset\n",
    "\n",
    "# Plot route lines\n",
    "    for route in unique_routes:\n",
    "        route_gdf = routes[routes['shape_id'] == route]\n",
    "        route_gdf.plot(ax=ax, linewidth=2, label=route, color=hex2color(route_colors[route]))\n",
    "\n",
    "# Plot stop locations\n",
    "#stop_locations_gdf.plot(ax=ax, color='red', markersize=5, label='Stops')\n",
    "\n",
    "# Add basemap (you can customize the provider and zoom level)\n",
    "ctx.add_basemap(ax, source=ctx.providers.OpenStreetMap.Mapnik, zoom=12)\n",
    "\n",
    "# Set plot title and legend\n",
    "plt.title('Transit Map')\n",
    "ax.legend()\n",
    "\n",
    "# Show the map\n",
    "plt.show()"
   ]
  },
  {
   "cell_type": "code",
   "execution_count": null,
   "metadata": {},
   "outputs": [],
   "source": [
    "import geopandas as gpd\n",
    "import matplotlib.pyplot as plt\n",
    "import contextily as ctx\n",
    "from shapely.geometry import LineString, MultiLineString\n",
    "import numpy as np\n",
    "\n",
    "\n",
    "# Define the grid resolution and offset (adjust as needed)\n",
    "grid_resolution = 0.0005  # Determines the spacing between snapped lines\n",
    "offset = 0.0001  # Adjust this value to control the offset between lines\n",
    "\n",
    "# Create a figure and axis\n",
    "fig, ax = plt.subplots(figsize=(10, 10))\n",
    "\n",
    "# Create a function to snap a line to the grid\n",
    "def snap_line_to_grid(line, resolution):\n",
    "    coords = np.array(line.coords)\n",
    "    snapped_coords = np.round(coords / resolution) * resolution\n",
    "    snapped_line = LineString(snapped_coords)\n",
    "    return snapped_line\n",
    "\n",
    "# Create a MultiLineString to store snapped lines with offsets\n",
    "snapped_lines = []\n",
    "for idx, line in enumerate(routes['geometry']):\n",
    "    offset_line = LineString([(x + idx * offset, y) for x, y in line.coords])\n",
    "    snapped_line = snap_line_to_grid(offset_line, grid_resolution)\n",
    "    snapped_lines.append(snapped_line)\n",
    "\n",
    "# Plot snapped route lines\n",
    "gpd.GeoSeries(MultiLineString(snapped_lines)).plot(ax=ax, linewidth=2, color='blue', label='Routes')\n",
    "\n",
    "# Plot stop locations\n",
    "#stop_locations_gdf.plot(ax=ax, color='red', markersize=5, label='Stops')\n",
    "\n",
    "# Add basemap (you can customize the provider and zoom level)\n",
    "ctx.add_basemap(ax, source=ctx.providers.OpenStreetMap.Mapnik, zoom=12)\n",
    "\n",
    "# Set plot title and legend\n",
    "plt.title('Transit Map')\n",
    "ax.legend()\n",
    "\n",
    "# Show the map\n",
    "plt.show()"
   ]
  },
  {
   "cell_type": "code",
   "execution_count": null,
   "metadata": {},
   "outputs": [],
   "source": [
    "from matplotlib.backends.backend_pdf import PdfPages\n",
    "from matplotlib.colors import hex2color\n",
    "import random\n",
    "unique_routes = routes['shape_id'].unique()\n",
    "unique_routes = unique_routes[::-1]\n",
    "random_colors = ['#{:02X}{:02X}{:02X}'.format(random.randint(0, 255),\n",
    "                                              random.randint(0, 255),\n",
    "                                              random.randint(0, 255)) for _ in unique_routes]\n",
    "# Create a dictionary to map route names to colors\n",
    "route_colors = dict(zip(unique_routes, random_colors))\n",
    "\n",
    "\n",
    "pdf_filename = 'krt_routes.pdf'\n",
    "\n",
    "with PdfPages(pdf_filename) as pdf:\n",
    "    for route in unique_routes:\n",
    "        # Create a subset of the GeoDataFrame for the current route\n",
    "        route_gdf = routes[routes['shape_id'] == route]\n",
    "\n",
    "        # Plot the route on a separate layer\n",
    "        fig, ax = plt.subplots(figsize=(8, 8))\n",
    "        route_gdf.plot(ax=ax, color=hex2color(route_colors[route]))\n",
    "        plt.title(route)\n",
    "\n",
    "        # Add the current layer to the PDF\n",
    "        pdf.savefig(fig, bbox_inches='tight')\n",
    "        plt.close()"
   ]
  },
  {
   "cell_type": "code",
   "execution_count": null,
   "metadata": {},
   "outputs": [],
   "source": [
    "pdf_filename = 'krt_routes_onemap.pdf'\n",
    "\n",
    "with PdfPages(pdf_filename) as pdf:\n",
    "    # Create a single figure for all routes\n",
    "    fig, ax = plt.subplots(figsize=(16, 16))\n",
    "    \n",
    "    for route in unique_routes:\n",
    "        # Create a subset of the GeoDataFrame for the current route\n",
    "        route_gdf = routes[routes['shape_id'] == route]\n",
    "\n",
    "        # Plot the route with a unique color\n",
    "        route_gdf.plot(ax=ax, label=route, color=hex2color(route_colors[route]))\n",
    "\n",
    "    # Add legend to differentiate routes\n",
    "    #ax.legend()\n",
    "\n",
    "    # Add the current layer to the PDF\n",
    "    pdf.savefig(fig, bbox_inches='tight', dpi= 300)\n",
    "    plt.close()\n",
    "\n",
    "print(f\"PDF file '{pdf_filename}' with all routes on one page and separate layers has been created.\")"
   ]
  },
  {
   "cell_type": "code",
   "execution_count": null,
   "metadata": {},
   "outputs": [],
   "source": [
    "routes= gpd.read_file('krt_routes_onemap.json')"
   ]
  },
  {
   "cell_type": "code",
   "execution_count": null,
   "metadata": {},
   "outputs": [],
   "source": [
    "x= pd.read_csv('gtfs/make_gtfs/data/khartoum/frequencies.csv')"
   ]
  },
  {
   "cell_type": "code",
   "execution_count": null,
   "metadata": {},
   "outputs": [],
   "source": [
    "x.shape_id = x.shape_id.astype(str).apply(lambda x: \"shp_\"+x)"
   ]
  },
  {
   "cell_type": "code",
   "execution_count": null,
   "metadata": {},
   "outputs": [],
   "source": [
    "x.to_csv('frequencies.csv', index= False)"
   ]
  },
  {
   "cell_type": "code",
   "execution_count": null,
   "metadata": {},
   "outputs": [],
   "source": [
    "routes[routes.need_to_check== 'YES'].plot(figsize=(6, 6))\n",
    "plt.show()\n",
    "print(routes[routes.need_to_check== 'YES'].Name)"
   ]
  },
  {
   "cell_type": "code",
   "execution_count": null,
   "metadata": {},
   "outputs": [],
   "source": [
    "color = []\n",
    "n = len(routes)\n",
    "\n",
    "for i in range(n):\n",
    "    color.append('#%06X' % randint(0, 0xFFFFFF))"
   ]
  },
  {
   "cell_type": "code",
   "execution_count": null,
   "metadata": {},
   "outputs": [],
   "source": [
    "ax = routes.to_crs(epsg=3857).plot(figsize=(10, 10), alpha=0.75, linewidth= 3, edgecolor=color, legend= True)\n",
    "cx.add_basemap(ax, source=cx.providers.OpenStreetMap.Mapnik, zoom= 11)\n",
    "plt.xlim([3600000, 3645000])\n",
    "plt.ylim([1740000, 1780000])\n",
    "ax.set_axis_off()\n",
    "\n",
    "#plt.savefig('validated_map_.jpg')"
   ]
  },
  {
   "cell_type": "code",
   "execution_count": null,
   "metadata": {},
   "outputs": [],
   "source": [
    "### TO DO ###\n",
    "\n",
    "f = folium.Figure(width=800, height=800)\n",
    "\n",
    "the_map= folium.Map(location=[15.5007, 32.5599],\n",
    "                    zoom_start = 17, tiles='openstreetmap').add_to(f)\n",
    "add_all_tiles(the_map)\n",
    "\n",
    "folium.PolyLine(routes.geometry[0]).add_to(the_map_map)\n",
    "\n",
    "# Add layer control to change tiles:\n",
    "folium.LayerControl(sortLayers=True).add_to(the_map)\n",
    "\n",
    "# To store the map as a HTML page:\n",
    "# the_map.save('map_001.html')\n",
    "\n",
    "# To display the map in a Jupyter notebook:\n",
    "the_map"
   ]
  },
  {
   "cell_type": "markdown",
   "metadata": {},
   "source": [
    "# Neighborhoods"
   ]
  },
  {
   "cell_type": "code",
   "execution_count": null,
   "metadata": {},
   "outputs": [],
   "source": [
    "#for neighborhoods geojson\n",
    "from shapely import wkt\n",
    "\n",
    "neighborhoods= gpd.read_file('Data/GIS/other_layers/krt_neighborhoods.json')\n",
    "\n",
    "neighborhoods['PAU_NAME']= neighborhoods.PAU_NAME.str.encode('cp1252')\n",
    "neighborhoods['PAU_NAME']= neighborhoods.PAU_NAME.str.decode('cp1256')\n",
    "\n",
    "neighborhoods['Loc_Name']= neighborhoods.Loc_Name.str.encode('cp1252')\n",
    "neighborhoods['Loc_Name']= neighborhoods.Loc_Name.str.decode('cp1256')\n",
    "\n",
    "neighborhoods['AU_Name']= neighborhoods.AU_Name.str.encode('cp1252')\n",
    "neighborhoods['AU_Name']= neighborhoods.AU_Name.str.decode('cp1256')\n",
    "\n",
    "neighborhoods['PAU_NAME_1']= neighborhoods.PAU_NAME_1.str.encode('cp1252')\n",
    "neighborhoods['PAU_NAME_1']= neighborhoods.PAU_NAME_1.str.decode('cp1256')\n",
    "\n",
    "neighborhoods['Loc_Name_1']= neighborhoods.Loc_Name_1.str.encode('cp1252')\n",
    "neighborhoods['Loc_Name_1']= neighborhoods.Loc_Name_1.str.decode('cp1256')\n",
    "\n",
    "neighborhoods['AU_Name_1']= neighborhoods.AU_Name_1.str.encode('cp1252')\n",
    "neighborhoods['AU_Name_1']= neighborhoods.AU_Name_1.str.decode('cp1256')"
   ]
  },
  {
   "cell_type": "code",
   "execution_count": null,
   "metadata": {},
   "outputs": [],
   "source": [
    "neighborhoods.columns = [x.lower() for x in neighborhoods.columns]\n",
    "neighborhoods.crs"
   ]
  },
  {
   "cell_type": "code",
   "execution_count": null,
   "metadata": {},
   "outputs": [],
   "source": [
    "ax = neighborhoods.plot(figsize=(10, 10), alpha=0.5, edgecolor='k')\n",
    "plt.xlim([32.00, 33.00])\n",
    "plt.ylim([15.20, 16.00])\n",
    "plt.grid()"
   ]
  },
  {
   "cell_type": "code",
   "execution_count": null,
   "metadata": {},
   "outputs": [],
   "source": [
    "color = []\n",
    "n = len(neighborhoods)\n",
    "\n",
    "for i in range(n):\n",
    "    color.append('#%06X' % randint(0, 0xFFFFFF))"
   ]
  },
  {
   "cell_type": "code",
   "execution_count": null,
   "metadata": {},
   "outputs": [],
   "source": [
    "#neighborhoods['House_Hold']= neighborhoods.House_Hold.replace(' ', 0).astype('int')\n",
    "neighborhoods= neighborhoods.drop(neighborhoods[neighborhoods.house_hold == ' '].index.values)\n",
    "neighborhoods['house_hold']= neighborhoods.house_hold.astype('int')\n",
    "neighborhoods= neighborhoods[neighborhoods.house_hold <= 3000] #filtering out one extreme neigborhood"
   ]
  },
  {
   "cell_type": "code",
   "execution_count": null,
   "metadata": {
    "scrolled": false
   },
   "outputs": [],
   "source": [
    "#ax = neighborhoods.to_crs(epsg=3857).plot(figsize=(20, 20), alpha=0.75, linewidth= 1, edgecolor='k', legend= True)\n",
    "ax = neighborhoods.to_crs(epsg=3857).plot(column= 'house_hold', figsize=(10, 10), alpha=0.75, cmap= 'turbo',\n",
    "                                          scheme= 'user_defined',\n",
    "                                          classification_kwds=dict(bins=[500, 1000, 1500, 2000, 2500]),\n",
    "                                          linewidth= 1, edgecolor='k', legend= True)\n",
    "cx.add_basemap(ax, source=cx.providers.OpenStreetMap.Mapnik, zoom= 11)\n",
    "plt.xlim([3595000, 3650000])\n",
    "plt.ylim([1730000, 1785000])\n",
    "ax.set_axis_off()\n",
    "\n",
    "#plt.savefig('neighborhood_map.jpg')"
   ]
  },
  {
   "cell_type": "markdown",
   "metadata": {},
   "source": [
    "## Survey Responses"
   ]
  },
  {
   "cell_type": "code",
   "execution_count": null,
   "metadata": {},
   "outputs": [],
   "source": [
    "data= pd.read_excel('Data/Mobility_Survey/khartoum_mobility_survey.xlsx')\n",
    "#data= pd.read_csv('matched_responces.csv') #for reading processed data\n",
    "\n",
    "print(data.shape)\n",
    "data.head()"
   ]
  },
  {
   "cell_type": "code",
   "execution_count": null,
   "metadata": {},
   "outputs": [],
   "source": [
    "print(data.cost.describe())\n",
    "data.cost.hist(bins=30)"
   ]
  },
  {
   "cell_type": "code",
   "execution_count": null,
   "metadata": {},
   "outputs": [],
   "source": [
    "print(data.household_size.describe())\n",
    "data[data.household_size <= 15].household_size.hist(bins=30)"
   ]
  },
  {
   "cell_type": "code",
   "execution_count": null,
   "metadata": {},
   "outputs": [],
   "source": [
    "print(data.household_youth.describe())\n",
    "data[data.household_youth <= 15].household_youth.hist(bins=30)"
   ]
  },
  {
   "cell_type": "code",
   "execution_count": null,
   "metadata": {},
   "outputs": [],
   "source": [
    "import seaborn as sns\n",
    "plt.figure(figsize=(15,4))\n",
    "plt.subplot(1,2,1)\n",
    "sns.lineplot(x= data.Timestamp.dt.date, y= data.index.values)\n",
    "plt.xticks(rotation=60)\n",
    "plt.grid()\n",
    "\n",
    "plt.subplot(1,2,2)\n",
    "sns.lineplot(x= data.Timestamp.dt.hour, y= data.index.values) #Hour is in US EST (KRT - 6)\n",
    "plt.grid()"
   ]
  },
  {
   "cell_type": "code",
   "execution_count": null,
   "metadata": {},
   "outputs": [],
   "source": [
    "#for new social media data\n",
    "plt.figure(figsize=(15,4))\n",
    "plt.subplot(1,2,1)\n",
    "\n",
    "subset= data[data.Timestamp >= '2023-03-29 00:00:00']\n",
    "sns.lineplot(x= subset.Timestamp.dt.date, y= subset.index.values)\n",
    "plt.xticks(rotation=60)\n",
    "plt.grid()\n",
    "\n",
    "plt.subplot(1,2,2)\n",
    "sns.lineplot(x= subset.Timestamp.dt.hour, y= subset.index.values) #Hour is in US EST (KRT - 6)\n",
    "plt.grid()"
   ]
  },
  {
   "cell_type": "code",
   "execution_count": null,
   "metadata": {},
   "outputs": [],
   "source": [
    "#comparing age groups\n",
    "print('For all data:')\n",
    "display(pd.DataFrame(data.age.value_counts(normalize= True)).round(3)*100)\n",
    "print('For sponsored social media:')\n",
    "display(pd.DataFrame(subset.age.value_counts(normalize= True)).round(3)*100)"
   ]
  },
  {
   "cell_type": "code",
   "execution_count": null,
   "metadata": {},
   "outputs": [],
   "source": [
    "print(data.origin.value_counts())\n",
    "print(data.destination.value_counts())"
   ]
  },
  {
   "cell_type": "code",
   "execution_count": null,
   "metadata": {},
   "outputs": [],
   "source": [
    "data['origin']= data.origin.astype('str').apply(lambda x: x.replace('أ','ا').replace('ة','ه').replace('ى','ي'))\n",
    "data['destination']= data.destination.astype('str').apply(lambda x: x.replace('أ','ا').replace('ة','ه').replace('ى','ي'))\n",
    "print(data.origin.value_counts())\n",
    "print(data.destination.value_counts())"
   ]
  },
  {
   "cell_type": "code",
   "execution_count": null,
   "metadata": {},
   "outputs": [],
   "source": [
    "#get counts\n",
    "neighborhoods.loc_name.value_counts()"
   ]
  },
  {
   "cell_type": "code",
   "execution_count": null,
   "metadata": {},
   "outputs": [],
   "source": [
    "#fix naming\n",
    "neighborhoods.loc_name[neighborhoods.loc_name == 'بحرى شمال'] = 'بحري'\n",
    "neighborhoods['loc_name']= neighborhoods.loc_name.apply(lambda x: x.replace('أ','ا').replace('ة','ه').replace('ى','ي'))\n",
    "neighborhoods['au_name']= neighborhoods.au_name.apply(lambda x: x.replace('أ','ا').replace('ة','ه').replace('ى','ي'))\n",
    "neighborhoods.loc_name.value_counts()"
   ]
  },
  {
   "cell_type": "code",
   "execution_count": null,
   "metadata": {},
   "outputs": [],
   "source": [
    "neighborhoods.dropna(subset=['fid'], inplace= True)\n",
    "neighborhoods.reset_index(drop= True, inplace= True)\n",
    "neighborhoods.house_hold.hist(bins= 100)"
   ]
  },
  {
   "cell_type": "code",
   "execution_count": null,
   "metadata": {},
   "outputs": [],
   "source": [
    "neighborhoods.groupby(['loc_name', 'au_name'])[['fid']].count()"
   ]
  },
  {
   "cell_type": "code",
   "execution_count": null,
   "metadata": {},
   "outputs": [],
   "source": [
    "trial= ['الخرطوم شرق', 'اركويت جامعه', 'الكلاكلة', 'كافوري', 'صالحه', 'الأزهري', 'المهندسين', 'الدروشاب']"
   ]
  },
  {
   "cell_type": "code",
   "execution_count": null,
   "metadata": {},
   "outputs": [],
   "source": [
    "#using difflib\n",
    "import difflib\n",
    "def string_similarity(str1, str2):\n",
    "    str1= ''.join([i for i in str1 if not i.isdigit()])\n",
    "    str2= ''.join([i for i in str2 if not i.isdigit()])\n",
    "    str2= str2.replace('أ','ا').replace('ة','ه').replace('ى','ي')\n",
    "    #str2= str2[:len(str2.partition(' ')[0])+3]\n",
    "    str1= str1.replace('أ','ا').replace('ة','ه').replace('ى','ي')[:len(str2)]\n",
    "    result =  difflib.SequenceMatcher(a=str1, b=str2)\n",
    "    return result.ratio()"
   ]
  },
  {
   "cell_type": "code",
   "execution_count": null,
   "metadata": {},
   "outputs": [],
   "source": [
    "#using bioalign\n",
    "from Bio.Align import PairwiseAligner\n",
    "def string_similarity_(str1, str2):\n",
    "    aligner = PairwiseAligner()\n",
    "    return aligner.score(str1, str2)/len(str2)"
   ]
  },
  {
   "cell_type": "code",
   "execution_count": null,
   "metadata": {},
   "outputs": [],
   "source": [
    "match= []\n",
    "\n",
    "for t in range(len(trial)):\n",
    "    max_score= 0\n",
    "    max_index= 0\n",
    "    for n in range(len(neighborhoods.pau_name)):\n",
    "        score= string_similarity(neighborhoods.pau_name.iat[n], trial[t])\n",
    "#         score_au= string_similarity(neighborhoods.au_name.iat[n], trial[t])\n",
    "#         score = score_au if score_au > score else score\n",
    "        #score= string_similarity(str(neighborhoods.pau_name[n].replace('أ','ا').replace('ة','ه')),\n",
    "        #                         str(trial[t].replace('أ','ا').replace('ة','ه')))\n",
    "        #score= string_similarity(str(neighborhoods.pau_name[n].encode), str(trial[t].encode))\n",
    "        #max_score= score if score > max_score else score\n",
    "        if score > max_score:\n",
    "            max_score = score\n",
    "            max_index = n\n",
    "    if max_score <= 0.75:\n",
    "        match.append([trial[t], 'No Match Found', round(max_score,3)])\n",
    "    else:\n",
    "        match.append([trial[t], neighborhoods.pau_name.iat[max_index], round(max_score,3)])"
   ]
  },
  {
   "cell_type": "code",
   "execution_count": null,
   "metadata": {},
   "outputs": [],
   "source": [
    "print(match)"
   ]
  },
  {
   "cell_type": "code",
   "execution_count": null,
   "metadata": {},
   "outputs": [],
   "source": [
    "#for survey data\n",
    "data['matched_origin'] = None\n",
    "data['matching_score'] = 0\n",
    "\n",
    "with tqdm.tqdm(total= len(data), position=0, leave=True) as pbar:\n",
    "    for o in range(len(data)):\n",
    "        pbar.update(1)\n",
    "        max_score= 0\n",
    "        max_index= 0\n",
    "        for n in range(len(neighborhoods.pau_name)):\n",
    "            score= string_similarity(neighborhoods.pau_name.iat[n], data.origin[o])\n",
    "#             score_au= string_similarity(neighborhoods.au_name.iat[n], data.origin[o])\n",
    "#             score = score_au if score_au > score else score\n",
    "\n",
    "            if score > max_score:\n",
    "                max_score = score\n",
    "                max_index = n\n",
    "        if max_score <= 0.75:\n",
    "            data.at[o, 'matched_origin'] = 'No Match Found'\n",
    "        else:\n",
    "            data.at[o, 'matched_origin'] = neighborhoods.pau_name.iat[max_index]\n",
    "            data.at[o, 'matching_score'] = round(max_score,3)"
   ]
  },
  {
   "cell_type": "code",
   "execution_count": null,
   "metadata": {},
   "outputs": [],
   "source": [
    "#show matching diagnostics\n",
    "print(f'Percent unmatched= {round(len(data[data.matched_origin == \"No Match Found\"])/len(data),3)*100}')\n",
    "data[['origin', 'matched_origin', 'matching_score']]"
   ]
  },
  {
   "cell_type": "code",
   "execution_count": null,
   "metadata": {
    "scrolled": false
   },
   "outputs": [],
   "source": [
    "#similarly for destinations\n",
    "#for survey data\n",
    "data['matched_destination'] = None\n",
    "data['matching_score_d'] = 0\n",
    "\n",
    "with tqdm.tqdm(total= len(data), position=0, leave=True) as pbar:\n",
    "    for o in range(len(data)):\n",
    "        pbar.update(1)\n",
    "        max_score= 0\n",
    "        max_index= 0\n",
    "        for n in range(len(neighborhoods.pau_name)):\n",
    "            score= string_similarity(neighborhoods.pau_name.iat[n], data.destination[o])\n",
    "            if score > max_score:\n",
    "                max_score = score\n",
    "                max_index = n\n",
    "        if max_score <= 0.75:\n",
    "            data.at[o, 'matched_destination'] = 'No Match Found'\n",
    "        else:\n",
    "            data.at[o, 'matched_destination'] = neighborhoods.pau_name.iat[max_index]\n",
    "            data.at[o, 'matching_score_d'] = round(max_score,3)\n",
    "            \n",
    "print(f'Percent unmatched= {round(len(data[data.matched_destination == \"No Match Found\"])/len(data),3)*100}')\n",
    "data[['destination', 'matched_destination', 'matching_score_d']]"
   ]
  },
  {
   "cell_type": "code",
   "execution_count": null,
   "metadata": {},
   "outputs": [],
   "source": [
    "neighborhoods['survey_count'] = 0\n",
    "\n",
    "with tqdm.tqdm(total= len(neighborhoods), position= 0, leave= True) as pbar:\n",
    "    for n in range(len(neighborhoods)):\n",
    "        pbar.update(1)\n",
    "        try:\n",
    "            neighborhoods.survey_count.iat[n]= data.matched_origin.value_counts()[neighborhoods.pau_name.iat[n]]\n",
    "        except:\n",
    "            continue"
   ]
  },
  {
   "cell_type": "code",
   "execution_count": null,
   "metadata": {
    "scrolled": false
   },
   "outputs": [],
   "source": [
    "ax = neighborhoods.to_crs(epsg=3857).plot(column= 'survey_count', figsize=(15, 15), alpha=0.75, cmap= 'turbo',\n",
    "                                          scheme= 'user_defined',\n",
    "                                          classification_kwds=dict(bins=[1, 10,20,30,40,50]),\n",
    "                                          linewidth= 1, edgecolor='k', legend= True)\n",
    "cx.add_basemap(ax, source=cx.providers.OpenStreetMap.Mapnik, zoom= 11)\n",
    "plt.xlim([3595000, 3650000])\n",
    "plt.ylim([1730000, 1785000])\n",
    "ax.set_axis_off()\n",
    "\n",
    "#plt.savefig('validated_map_.jpg')"
   ]
  },
  {
   "cell_type": "markdown",
   "metadata": {},
   "source": [
    "# using GeoCode"
   ]
  },
  {
   "cell_type": "code",
   "execution_count": null,
   "metadata": {},
   "outputs": [],
   "source": [
    "#using geocoding to match unmatched origins and destinations\n",
    "gcd_data= data[data.matched_origin == 'No Match Found']"
   ]
  },
  {
   "cell_type": "code",
   "execution_count": null,
   "metadata": {},
   "outputs": [],
   "source": [
    "gcd_data['location'] = gcd_data.origin+', الخرطوم, السودان'"
   ]
  },
  {
   "cell_type": "code",
   "execution_count": null,
   "metadata": {},
   "outputs": [],
   "source": [
    "test= gpd.tools.geocode(gcd_data.location.sample(10))\n",
    "test= test.to_crs(epsg=4326)"
   ]
  },
  {
   "cell_type": "code",
   "execution_count": null,
   "metadata": {},
   "outputs": [],
   "source": [
    "test.address"
   ]
  },
  {
   "cell_type": "code",
   "execution_count": null,
   "metadata": {},
   "outputs": [],
   "source": [
    "ax = neighborhoods.plot(figsize=(10, 10), alpha=0.5, edgecolor='k')\n",
    "test.plot(ax=ax, c='r')\n",
    "plt.xlim([32.00, 33.00])\n",
    "plt.ylim([15.20, 16.00])\n",
    "plt.grid()"
   ]
  },
  {
   "cell_type": "code",
   "execution_count": null,
   "metadata": {},
   "outputs": [],
   "source": [
    "from shapely.geometry import Point, Polygon\n",
    "\n",
    "test['pau_name'] = 'Unknown'\n",
    "with tqdm.tqdm(total= len(test), position=0, leave=True) as pbar:\n",
    "    for i in range(len(test)):\n",
    "        pbar.update(1)\n",
    "        for j in range(len(neighborhoods)):\n",
    "            try:\n",
    "                if Polygon(neighborhoods.geometry.iat[j]).contains(Point(test.geometry.iat[i])):\n",
    "                    test.pau_name.iat[i]= neighborhoods.pau_name.iat[j]\n",
    "            except:\n",
    "                continue\n",
    "\n",
    "print('After matching:')\n",
    "test"
   ]
  },
  {
   "cell_type": "code",
   "execution_count": null,
   "metadata": {
    "scrolled": false
   },
   "outputs": [],
   "source": [
    "#geocode everything\n",
    "#use batches and wait 10 sec between batches to avoid errors due to gcd server limits\n",
    "counter = 0\n",
    "batch = 20\n",
    "gcd = pd.DataFrame()\n",
    "\n",
    "with tqdm.tqdm(total= np.ceil(len(gcd_data)/batch), position=0, leave=True) as pbar:\n",
    "    for i in range(int(np.ceil(len(gcd_data)/batch))):\n",
    "        pbar.update(1)\n",
    "        while True:\n",
    "            try:\n",
    "                test= gpd.tools.geocode(gcd_data.location[counter:counter+batch])\n",
    "                gcd= pd.concat([gcd, test])\n",
    "                counter += batch\n",
    "            except:\n",
    "                print(f'Connection Breakdown at Batch: {i+1} \\n')\n",
    "                print(f'Retrying...')\n",
    "                continue\n",
    "            break\n",
    "        time.sleep(10) #break down requests\n",
    "gcd= gcd.to_crs(epsg=4326)"
   ]
  },
  {
   "cell_type": "code",
   "execution_count": null,
   "metadata": {},
   "outputs": [],
   "source": [
    "gcd['pau_name'] = 'Unknown'\n",
    "\n",
    "with tqdm.tqdm(total= len(gcd), position=0, leave=True) as pbar:\n",
    "    for i in range(len(gcd)):\n",
    "        pbar.update(1)\n",
    "        for j in range(len(neighborhoods)):\n",
    "            try:\n",
    "                if Polygon(neighborhoods.geometry.iat[j]).contains(Point(gcd.geometry.iat[i])):\n",
    "                    gcd.pau_name.iat[i]= neighborhoods.pau_name.iat[j]\n",
    "            except:\n",
    "                continue"
   ]
  },
  {
   "cell_type": "code",
   "execution_count": null,
   "metadata": {},
   "outputs": [],
   "source": [
    "for response in gcd.index.values:\n",
    "    data.matched_origin.at[response] = gcd.pau_name.at[response]\n",
    "    \n",
    "print(f'Percent unmatched= {round(len(data[data.matched_origin == \"Unknown\"])/len(data),3)*100}')\n",
    "data[['origin', 'matched_origin', 'matching_score']].sample(10)"
   ]
  },
  {
   "cell_type": "code",
   "execution_count": null,
   "metadata": {},
   "outputs": [],
   "source": [
    "neighborhoods['survey_count'] = 0\n",
    "\n",
    "with tqdm.tqdm(total= len(neighborhoods), position= 0, leave= True) as pbar:\n",
    "    for n in range(len(neighborhoods)):\n",
    "        pbar.update(1)\n",
    "        try:\n",
    "            neighborhoods.survey_count.iat[n]= data.matched_origin.value_counts()[neighborhoods.pau_name.iat[n]]\n",
    "        except:\n",
    "            continue"
   ]
  },
  {
   "cell_type": "code",
   "execution_count": null,
   "metadata": {
    "scrolled": false
   },
   "outputs": [],
   "source": [
    "ax = neighborhoods.to_crs(epsg=3857).plot(column= 'survey_count', figsize=(10, 10), alpha=0.75, cmap= 'turbo',\n",
    "                                          scheme= 'user_defined',\n",
    "                                          classification_kwds=dict(bins=[1,20,30,40,50,100]),\n",
    "                                          linewidth=1, edgecolor='k', legend= True)\n",
    "cx.add_basemap(ax, source=cx.providers.OpenStreetMap.Mapnik, zoom= 11)\n",
    "plt.xlim([3595000, 3650000])\n",
    "plt.ylim([1730000, 1785000])\n",
    "ax.set_axis_off()\n",
    "\n",
    "#plt.savefig('mobility_survey_origins.jpg') #print on 20x20"
   ]
  },
  {
   "cell_type": "code",
   "execution_count": null,
   "metadata": {},
   "outputs": [],
   "source": [
    "ax = neighborhoods.to_crs(epsg=3857).plot(column= 'survey_count', figsize=(10, 10), alpha=0.75, cmap= 'turbo',\n",
    "                                          scheme= 'user_defined',\n",
    "                                          classification_kwds=dict(bins=[1,20,30,40,50,100]),\n",
    "                                          linewidth= 0.50, edgecolor='k', legend= True)\n",
    "routes.to_crs(epsg=3857).plot(ax=ax, alpha=1.0, linewidth= 2, edgecolor=color, legend= True)\n",
    "cx.add_basemap(ax, source=cx.providers.OpenStreetMap.Mapnik, zoom= 11)\n",
    "plt.xlim([3595000, 3650000])\n",
    "plt.ylim([1730000, 1785000])\n",
    "ax.set_axis_off()\n",
    "\n",
    "#plt.savefig('routes.jpg') #print on 20x20"
   ]
  },
  {
   "cell_type": "code",
   "execution_count": null,
   "metadata": {
    "scrolled": false
   },
   "outputs": [],
   "source": [
    "#same thing for destinations\n",
    "#if it breaks, remove everything until creating gcd and replace tqdm total - i, i range(i,int(np.ceil...))\n",
    "\n",
    "gcd_data= data[data.matched_destination == 'No Match Found']\n",
    "gcd_data['location'] = gcd_data.destination+', الخرطوم, السودان'\n",
    "\n",
    "counter = 0\n",
    "batch = 20\n",
    "gcd = pd.DataFrame()\n",
    "\n",
    "print('Geocoding in Progress...')\n",
    "with tqdm.tqdm(total= np.ceil(len(gcd_data)/batch), position=0, leave=True) as pbar:\n",
    "    for i in range(int(np.ceil(len(gcd_data)/batch))):\n",
    "        pbar.update(1)\n",
    "        while True:  \n",
    "            try:\n",
    "                test= gpd.tools.geocode(gcd_data.location[counter:counter+batch])\n",
    "                gcd= pd.concat([gcd, test])\n",
    "                counter += batch\n",
    "            except:\n",
    "                print(f'Connection Breakdown at Batch: {i+1} \\n')\n",
    "                print(f'Retrying...')\n",
    "                continue\n",
    "            break\n",
    "        time.sleep(10) #break down requests\n",
    "gcd= gcd.to_crs(epsg=4326)\n",
    "gcd['pau_name'] = 'Unknown'\n",
    "\n",
    "print('Geocoding Matching...')\n",
    "with tqdm.tqdm(total= len(gcd), position=0, leave=True) as pbar:\n",
    "    for i in range(len(gcd)):\n",
    "        pbar.update(1)\n",
    "        for j in range(len(neighborhoods)):\n",
    "            try:\n",
    "                if Polygon(neighborhoods.geometry.iat[j]).contains(Point(gcd.geometry.iat[i])):\n",
    "                    gcd.pau_name.iat[i]= neighborhoods.pau_name.iat[j]\n",
    "            except:\n",
    "                continue\n",
    "    \n",
    "for response in gcd.index.values:\n",
    "    data.matched_destination.at[response] = gcd.pau_name.at[response]\n",
    "print(f'Percent unmatched= {round(len(data[data.matched_destination == \"Unknown\"])/len(data),3)*100}')\n",
    "data[['destination', 'matched_destination', 'matching_score']].sample(10)\n",
    "\n",
    "print('Counting...')\n",
    "neighborhoods['survey_count'] = 0\n",
    "with tqdm.tqdm(total= len(neighborhoods), position= 0, leave= True) as pbar:\n",
    "    for n in range(len(neighborhoods)):\n",
    "        pbar.update(1)\n",
    "        try:\n",
    "            neighborhoods.survey_count.iat[n]= data.matched_destination.value_counts()[neighborhoods.pau_name.iat[n]]\n",
    "        except:\n",
    "            continue\n",
    "\n",
    "print('Plotting...')           \n",
    "ax = neighborhoods.to_crs(epsg=3857).plot(column= 'survey_count', figsize=(10, 10), alpha=0.75, cmap= 'turbo',\n",
    "                                          scheme= 'user_defined',\n",
    "                                          classification_kwds=dict(bins=[1,10,25,50,100,250]),\n",
    "                                          linewidth= 1, edgecolor='k', legend= True)\n",
    "cx.add_basemap(ax, source=cx.providers.OpenStreetMap.Mapnik, zoom= 11)\n",
    "plt.xlim([3595000, 3650000])\n",
    "plt.ylim([1730000, 1785000])\n",
    "ax.set_axis_off()\n",
    "\n",
    "#plt.savefig('mobility_survey_destinations.jpg')"
   ]
  },
  {
   "cell_type": "code",
   "execution_count": null,
   "metadata": {},
   "outputs": [],
   "source": [
    "data.matched_destination"
   ]
  },
  {
   "cell_type": "code",
   "execution_count": null,
   "metadata": {},
   "outputs": [],
   "source": [
    "data.to_excel('Data/Mobility_Survey/kms_matched_responces.xlsx', index= False)"
   ]
  },
  {
   "cell_type": "code",
   "execution_count": null,
   "metadata": {},
   "outputs": [],
   "source": [
    "x= data.groupby(['matched_origin', 'matched_destination'])[['per_day']].count()\n",
    "x.reset_index(inplace= True)\n",
    "x.sort_values('per_day', ascending= False)"
   ]
  },
  {
   "cell_type": "code",
   "execution_count": null,
   "metadata": {},
   "outputs": [],
   "source": [
    "x= data.groupby(['origin_locality', 'destination_locality'])[['per_day']].count()\n",
    "x.reset_index(inplace= True)\n",
    "x.sort_values('per_day', ascending= False)"
   ]
  },
  {
   "cell_type": "code",
   "execution_count": null,
   "metadata": {},
   "outputs": [],
   "source": [
    "data.info()"
   ]
  },
  {
   "cell_type": "code",
   "execution_count": null,
   "metadata": {},
   "outputs": [],
   "source": [
    "cat_cols= ['purpose', 'access', 'concerns', 'age', 'sex', 'employment', 'income',\n",
    "       'income_source', 'household_size', 'household_youth', 'household_cars',\n",
    "       'og_team_member_id', 'matched_origin', 'matching_score',\n",
    "       'matched_destination', 'matching_score_d']\n",
    "\n",
    "= .astype('category')"
   ]
  }
 ],
 "metadata": {
  "kernelspec": {
   "display_name": "Python 3 (ipykernel)",
   "language": "python",
   "name": "python3"
  },
  "language_info": {
   "codemirror_mode": {
    "name": "ipython",
    "version": 3
   },
   "file_extension": ".py",
   "mimetype": "text/x-python",
   "name": "python",
   "nbconvert_exporter": "python",
   "pygments_lexer": "ipython3",
   "version": "3.9.12"
  },
  "latex_envs": {
   "LaTeX_envs_menu_present": true,
   "autoclose": false,
   "autocomplete": true,
   "bibliofile": "biblio.bib",
   "cite_by": "apalike",
   "current_citInitial": 1,
   "eqLabelWithNumbers": true,
   "eqNumInitial": 1,
   "hotkeys": {
    "equation": "Ctrl-E",
    "itemize": "Ctrl-I"
   },
   "labels_anchors": false,
   "latex_user_defs": false,
   "report_style_numbering": false,
   "user_envs_cfg": false
  },
  "toc": {
   "base_numbering": 1,
   "nav_menu": {},
   "number_sections": true,
   "sideBar": true,
   "skip_h1_title": false,
   "title_cell": "Table of Contents",
   "title_sidebar": "Contents",
   "toc_cell": false,
   "toc_position": {},
   "toc_section_display": true,
   "toc_window_display": false
  }
 },
 "nbformat": 4,
 "nbformat_minor": 4
}
